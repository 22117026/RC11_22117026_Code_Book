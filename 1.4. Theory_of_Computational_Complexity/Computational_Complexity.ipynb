{
 "cells": [
  {
   "cell_type": "markdown",
   "id": "21276c06",
   "metadata": {},
   "source": [
    "# Assignment 02\n",
    "\n",
    "__Complexity__"
   ]
  },
  {
   "cell_type": "markdown",
   "id": "59d05008",
   "metadata": {},
   "source": [
    "## Exercise 1 \n",
    "Sort the functions below according to their growth (so following O(·)). You can give the answer as a sequence of numbers (for example: 1−5−9−8−7−4− 2 − 3 − 6). Start with the slowest growing function.\n",
    "\n",
    "1. $n$\n",
    "2. $n−n^3 +7n^5$\n",
    "3. $2^n$\n",
    "4. $n^2$\n",
    "5. $n*ln(n)$ \n",
    "6. $√n$\n",
    "7. $n!$\n",
    "8. $e^n$\n",
    "9. $ln(ln(n))$"
   ]
  },
  {
   "cell_type": "markdown",
   "id": "168b5856",
   "metadata": {},
   "source": [
    "#### Answer \n",
    "\n",
    "According to the function growth, the sorting is as follows : \n",
    "\n",
    "$ln(ln(n))$ < $√n$ < $n$ < $n*ln(n)$ < $n^2$ < $n−n^3 +7n^5$ < $2^n$ < $e^n$ < $n!$ \n",
    "\n",
    "(Logarithmic < Fractional < Linear < Linearithmic < Quadratic < Polynomial < Exponential < Factorial)\n",
    "\n",
    "##### Sequence : \n",
    "9-6-1-5-4-2-3-8-7"
   ]
  },
  {
   "cell_type": "markdown",
   "id": "088d3196",
   "metadata": {},
   "source": [
    "## Exercise 2\n",
    "Suppose we have a computer which can perform 1 million (= $10^6$) operations per second. The nine formulas below denote the running time of some algorithms (measured in number of operations) depending on the number of elements n we feed to the algorithm. Determine for each algorithm how many elements can be processed in 1 minute.\n",
    "\n",
    "1. $n$\n",
    "2. $n^2$ \n",
    "3. $n^3$  \n",
    "4. $n!$\n",
    "5. $n*ln(n)$ \n",
    "6. $n*log(n)$\n",
    "7. $2^n$ \n",
    "8. $n√n$ \n",
    "9. $n^{100}$ \n",
    "10. $4^n$"
   ]
  },
  {
   "cell_type": "markdown",
   "id": "c6df0f5c",
   "metadata": {},
   "source": [
    "#### Answer \n",
    "1. n = $60*10^6$ = 60000000 elements\n",
    "2. $n^2$ = $\\sqrt{6*10^7}$ = 7746 elements\n",
    "3. $n^3$ = $\\sqrt[3]{6*10^7}$ = 369.6 elements\n",
    "4. $n!$ = 12 elements\n",
    "5. $n*ln(n)$ = $(10^6 * 60) / ln(n)$ = 158317.5 elements\n",
    "6. $n*log(n)$ = $(10^6 * 60) / log(n)$ = 46416.13 elements\n",
    "7. $2^n$ = $log (10^6 * 60)/log (2)$ = 26 elements\n",
    "8. $n√n$ = 46,340 elements\n",
    "9. $n^{100}$ = 2 elements\n",
    "10. $4^n$ = $log (10^6 * 60)/log (4)$ = 13 elements \n"
   ]
  },
  {
   "cell_type": "markdown",
   "id": "6c6cf2af",
   "metadata": {},
   "source": [
    "## Exercise 3\n",
    "For each pair of functions below, indicate whether f(n) = O(g(n)) or g(n) = O(f(n)) or both. See slide 30 of the lecture to find a reminder on the definition of the big-O notation (or, better yet, use your own alternative sources to get a better understanding).\n",
    "\n",
    "#### 3.1 A\n",
    "1. f(n) = √n, g(n) = $ln(n^2)$;\n",
    "2. f(n) = log(n), g(n) = ln(n);\n",
    "3. f(n) = n, g(n) = log(n);\n",
    "4. f(n) = nln(n)+n,g(n)=ln(n); \n",
    "5. f(n) = 10, g(n) = ln(10);\n",
    "6. f(n) = $2^n$, g(n) = $10n^2$;\n",
    "7. f(n) = $2^n$, g(n) = $3^n$.\n"
   ]
  },
  {
   "cell_type": "markdown",
   "id": "6b715af1",
   "metadata": {},
   "source": [
    "#### Answer \n",
    "\n",
    "1. g(n) = O(f(n)) : $ln(n^2)$ = O(√n)\n",
    "2. Both : f(n) = O(g(n)) and g(n) = O(f(n))\n",
    "3. f(n) = O(g(n)): n = O(log(n))\n",
    "4. f(n) = O(g(n)): nln(n)+n = O(ln(n))\n",
    "5. f(n) = O(g(n)): 10 = O(ln(10))\n",
    "6. g(n) = O(f(n)): $10n^2$ = O$(2^n)$\n",
    "7. g(n) = O(f(n)): $3^n$ = O$(2^n)$"
   ]
  },
  {
   "cell_type": "markdown",
   "id": "4dbaaf81",
   "metadata": {},
   "source": [
    "#### 3.2 B\n",
    "As in section A, but now also prove it. That is, give a c and an N to show that f(n) ≤ c · g(n) for every n > N (or the other way around, or both!). See the bottom of slide 30 of the lecture (page 62 of the pdf) for an example.\n",
    "\n",
    "f(n) = log($n^2$), g(n) = log(n)"
   ]
  },
  {
   "cell_type": "markdown",
   "id": "cdc8ed3a",
   "metadata": {},
   "source": [
    "#### Answer \n",
    "\n",
    "Both.\n",
    "\n",
    "#### Case 1 : f(n) = O(g(n))\n",
    "\n",
    "Take c = 2, N = 1 :\n",
    "\n",
    "$log(n^2)$ = log(n) + log(n) = 2 * log(n)\n",
    "\n",
    "So, for every n > N, f(n) = $log(n^2)$ <= 2 * log(n) = 2 * g(n)\n",
    "\n",
    "#### Case 2 : g(n) = O(f(n))\n",
    "\n",
    "Take c = 1, N = 1 :\n",
    "\n",
    "So, for every n > N, g(n) = log(n) <= log$(n^2)$ = f(n)\n",
    "\n"
   ]
  },
  {
   "cell_type": "markdown",
   "id": "397e07a3",
   "metadata": {},
   "source": [
    "## Exercise 4\n",
    "\n",
    "The n-th harmonic number Hn is the sum of the reciprocals of the first n natural numbers. \n",
    "Write a Python function that takes a (natural) number n as input and returns Hn. Hand in your program together with its asymptotic complexity and a small justification (explain why you think that that is its complexity)."
   ]
  },
  {
   "cell_type": "code",
   "execution_count": 3,
   "id": "7cbdd4b8",
   "metadata": {},
   "outputs": [],
   "source": [
    "def harmonic_number(n):\n",
    "    if n <= 0:\n",
    "        return \"n must be a positive integer.\"\n",
    "    else:\n",
    "        Hn = 0\n",
    "        for i in range(1, n + 1):\n",
    "            Hn += 1 / i\n",
    "        return Hn\n"
   ]
  },
  {
   "cell_type": "code",
   "execution_count": 11,
   "id": "c75c44d8",
   "metadata": {},
   "outputs": [
    {
     "data": {
      "text/plain": [
       "2.283333333333333"
      ]
     },
     "execution_count": 11,
     "metadata": {},
     "output_type": "execute_result"
    }
   ],
   "source": [
    "harmonic_number(5)"
   ]
  },
  {
   "cell_type": "markdown",
   "id": "44d246d3",
   "metadata": {},
   "source": [
    "#### Explanation \n",
    "\n",
    "The function calculates the sum of the first n terms of a harmonic series, and the running time of the function is proportional to n. For each iteration of the for loop, the value of Hn is updated by adding a constant value 1 / i, so the total number of operations is proportional to n. Therefore, the asymptotic complexity of the function is O(n)."
   ]
  },
  {
   "cell_type": "markdown",
   "id": "8724700c",
   "metadata": {},
   "source": [
    "## Exercise 5\n",
    "\n",
    "In mathematics, the factorial of a non-negative integer n, denoted by n!, is the product of all positive integers less than or equal to n.\n",
    "Write a Python function that takes a (natural) number n as input and returns n!. Hand in your program together with its asymptotic complexity and a small justification (explain why you think that that is its complexity)."
   ]
  },
  {
   "cell_type": "code",
   "execution_count": 5,
   "id": "0414dcc2",
   "metadata": {},
   "outputs": [],
   "source": [
    "def factorial(n):\n",
    "    if n == 0:\n",
    "        return 1\n",
    "    else:\n",
    "        return n * factorial(n-1)"
   ]
  },
  {
   "cell_type": "code",
   "execution_count": 6,
   "id": "d8dea93f",
   "metadata": {},
   "outputs": [
    {
     "data": {
      "text/plain": [
       "120"
      ]
     },
     "execution_count": 6,
     "metadata": {},
     "output_type": "execute_result"
    }
   ],
   "source": [
    "factorial(5)"
   ]
  },
  {
   "cell_type": "markdown",
   "id": "84937472",
   "metadata": {},
   "source": [
    "#### Explanation \n",
    "\n",
    "The asymptotic complexity of this function is O(n), because the function needs to multiply n numbers to find the factorial of n. It does this by recursively calling the function for n-1, n-2, n-3, ..., until it reaches 0, where the base case returns 1. The number of times the function needs to be called is equal to n, so the complexity is linear."
   ]
  },
  {
   "cell_type": "markdown",
   "id": "2cd0458f",
   "metadata": {},
   "source": [
    "## Exercise 6   \n",
    "\n",
    "Algorithm 1: Bubble Sort \n",
    "\n",
    "Input: a list A\n",
    "\n",
    "for i = 1 to A.length − 1 do\n",
    "\n",
    "    for j = A.length down to i + 1 do \n",
    "\n",
    "     if A[j] < A[j − 1] then\n",
    "\n",
    "      exchange A[j] with A[j − 1]"
   ]
  },
  {
   "cell_type": "markdown",
   "id": "a647330c",
   "metadata": {},
   "source": [
    "#### Explanation \n",
    "\n",
    "Bubble sort has a time complexity of $O(n^2)$ because for each element in the list, it needs to compare it with every other element, which takes $O(n)$ time. Since this process needs to be repeated for every element, the total time complexity becomes $O(n * n)$ or $O(n^2)$.\n",
    "\n",
    "In the outer loop (i), it iterates n-1 times, and in the inner loop (j), it iterates n times, so the total number of iterations becomes $(n-1)*n$, which is equal to $n^2 - n$, which is roughly $O(n^2)$."
   ]
  },
  {
   "cell_type": "markdown",
   "id": "d4b5cdc3",
   "metadata": {},
   "source": [
    "## Exercise 7\n",
    "\n",
    "Give the asymptotic time complexity (so just the big O notation, not the whole analysis as in Exercise Six) of the following five algorithms, and justify your answers:\n"
   ]
  },
  {
   "cell_type": "markdown",
   "id": "f92e1b18",
   "metadata": {},
   "source": [
    "#### Algorithm 2: \n",
    "\n",
    "Input: n \n",
    "\n",
    "s=0\n",
    "\n",
    "i=0\n",
    "\n",
    "while i < n do \n",
    "    \n",
    "    s=s+1 \n",
    "    i=i+1"
   ]
  },
  {
   "cell_type": "markdown",
   "id": "8d28e2bb",
   "metadata": {},
   "source": [
    "#### Explanation \n",
    "\n",
    "The algorithm has a linear time complexity of O(n) because the execution time is directly proportional to the size of the input (n). The while loop iterates n times and performs a constant amount of work in each iteration. Therefore, the total amount of work performed by the algorithm is proportional to n, making its time complexity O(n)."
   ]
  },
  {
   "cell_type": "markdown",
   "id": "47fded19",
   "metadata": {},
   "source": [
    "#### Algorithm 3: \n",
    "\n",
    "Input: n \n",
    "\n",
    "s=0\n",
    "\n",
    "i=0\n",
    "\n",
    "while i < n do \n",
    "\n",
    "    j=0\n",
    "    while j < n do \n",
    "        s=s+1 \n",
    "        j=j+1\n",
    "\n",
    "    i=i+1"
   ]
  },
  {
   "cell_type": "markdown",
   "id": "7f3faf0a",
   "metadata": {},
   "source": [
    "#### Explanation \n",
    "\n",
    "It is a nested loop structure where the outer loop runs n times and the inner loop also runs n times, so the total number of iterations would be $n * n = n^2$. This means that for each iteration of the outer loop, the inner loop would also run n times. Hence, the asymptotic complexity of the algorithm is $O(n^2)$."
   ]
  },
  {
   "cell_type": "markdown",
   "id": "25f61f5c",
   "metadata": {},
   "source": [
    "#### Algorithm 4: \n",
    "\n",
    "Input: n \n",
    "\n",
    "s=0\n",
    "\n",
    "i=0\n",
    "\n",
    "while i < n do \n",
    "    \n",
    "    j=0\n",
    "    while j < n × n do\n",
    "        s=s+1\n",
    "        j=j+1 \n",
    "    i=i+1"
   ]
  },
  {
   "cell_type": "markdown",
   "id": "5e2dd4d5",
   "metadata": {},
   "source": [
    "#### Explanation \n",
    "\n",
    "It rums two nested while loops. The outer while loop runs n times, and the inner while loop runs n * n times, so the total number of iterations is n * n * n. The s = s + 1 operation takes constant time, so the overall time complexity of Algorithm 4 is $O(n^3)$."
   ]
  },
  {
   "cell_type": "markdown",
   "id": "e786007f",
   "metadata": {},
   "source": [
    "#### Algorithm 5: \n",
    "\n",
    "Input: n \n",
    "\n",
    "s=0\n",
    "\n",
    "i=0\n",
    "\n",
    "while i < n do \n",
    "\n",
    "    j=0\n",
    "    while j < i do \n",
    "        s=s+1\n",
    "        j=j+1 \n",
    "    i=i+1"
   ]
  },
  {
   "cell_type": "markdown",
   "id": "600854dc",
   "metadata": {},
   "source": [
    "#### Explanation \n",
    "The outer while loop runs n times, and the inner while loop runs i times, where i varies from 0 to n-1. The total number of iterations of the inner loop is given by the summation i=0 to n-1 of i, which is equal to n * (n - 1) / 2. The s = s + 1 operation takes constant time, so the overall time complexity of Algorithm 5 is $O(n^2)$."
   ]
  },
  {
   "cell_type": "markdown",
   "id": "055e9337",
   "metadata": {},
   "source": [
    "#### Algorithm 6: \n",
    "\n",
    "Input: n \n",
    "\n",
    "s=0\n",
    "\n",
    "i=0\n",
    "\n",
    "while i < n do \n",
    "\n",
    "    j=0\n",
    "    while j < i do \n",
    "        k=0\n",
    "        while k < j do \n",
    "            s=s+1 \n",
    "            k=k+1\n",
    "        j=j+1 \n",
    "    i=i+1"
   ]
  },
  {
   "cell_type": "markdown",
   "id": "114a6ec9",
   "metadata": {},
   "source": [
    "#### Explanation\n",
    "\n",
    "The asymptotic complexity of Algorithm 6 is $O(n^3)$. The outer while loop runs n times, and the two inner while loops run i * j times in total, where i and j both vary from 0 to n-1. The running time of the inner loops increases quickly as n grows, resulting in a time complexity of $O(n^3)$."
   ]
  },
  {
   "cell_type": "code",
   "execution_count": null,
   "id": "b934dfe5",
   "metadata": {},
   "outputs": [],
   "source": []
  }
 ],
 "metadata": {
  "kernelspec": {
   "display_name": "Python 3 (ipykernel)",
   "language": "python",
   "name": "python3"
  },
  "language_info": {
   "codemirror_mode": {
    "name": "ipython",
    "version": 3
   },
   "file_extension": ".py",
   "mimetype": "text/x-python",
   "name": "python",
   "nbconvert_exporter": "python",
   "pygments_lexer": "ipython3",
   "version": "3.9.12"
  }
 },
 "nbformat": 4,
 "nbformat_minor": 5
}
