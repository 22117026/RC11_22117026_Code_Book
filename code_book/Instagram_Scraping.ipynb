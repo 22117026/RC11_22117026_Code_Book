{
 "cells": [
  {
   "cell_type": "markdown",
   "id": "3896d474",
   "metadata": {},
   "source": [
    "## Scraping images from Instagram "
   ]
  },
  {
   "cell_type": "code",
   "execution_count": 1,
   "id": "23608fae",
   "metadata": {},
   "outputs": [],
   "source": [
    "import selenium\n",
    "from selenium import webdriver\n",
    "from selenium.webdriver.common.by import By\n",
    "from selenium.webdriver.common.keys import Keys\n",
    "from time import sleep\n",
    "import getpass"
   ]
  },
  {
   "cell_type": "code",
   "execution_count": 2,
   "id": "3ebe766d",
   "metadata": {},
   "outputs": [
    {
     "name": "stdout",
     "output_type": "stream",
     "text": [
      "········\n"
     ]
    }
   ],
   "source": [
    "my_user = \"sanikajoshi079@gmail.com\"\n",
    "my_pwd = getpass.getpass()"
   ]
  },
  {
   "cell_type": "code",
   "execution_count": 3,
   "id": "92b56a07",
   "metadata": {},
   "outputs": [],
   "source": [
    "dest_loc = r'./images'"
   ]
  },
  {
   "cell_type": "code",
   "execution_count": 4,
   "id": "85117719",
   "metadata": {},
   "outputs": [
    {
     "name": "stderr",
     "output_type": "stream",
     "text": [
      "/var/folders/ld/30567qtn4hd_sqnfwl5n42jm0000gn/T/ipykernel_6767/1721012297.py:2: DeprecationWarning: executable_path has been deprecated, please pass in a Service object\n",
      "  driver = webdriver.Chrome(PATH)\n"
     ]
    }
   ],
   "source": [
    "PATH = \"./chromedriver\"\n",
    "driver = webdriver.Chrome(PATH)\n",
    "driver.get(\"https://www.instagram.com/\")\n",
    "driver.maximize_window()\n",
    "sleep(3)"
   ]
  },
  {
   "cell_type": "code",
   "execution_count": 5,
   "id": "5217fcba",
   "metadata": {},
   "outputs": [],
   "source": [
    "user_name = driver.find_element(By.XPATH,\"//input[@name='username']\")\n",
    "user_name.send_keys(my_user)\n",
    "user_name.send_keys(Keys.ENTER)"
   ]
  },
  {
   "cell_type": "code",
   "execution_count": 6,
   "id": "4468d9e8",
   "metadata": {},
   "outputs": [],
   "source": [
    "password = driver.find_element(By.XPATH,\"//input[@name='password']\")\n",
    "password.send_keys(my_pwd)\n",
    "password.send_keys(Keys.ENTER)\n",
    "sleep(0)"
   ]
  },
  {
   "cell_type": "code",
   "execution_count": 8,
   "id": "92c881c5",
   "metadata": {},
   "outputs": [],
   "source": [
    "search_box = driver.find_element(By.XPATH,\"//input[@aria-label='Search input']\")\n",
    "search_box.clear()\n",
    "search_box.send_keys(\"#colourfulistanbul\")"
   ]
  },
  {
   "cell_type": "code",
   "execution_count": 9,
   "id": "07f46267",
   "metadata": {},
   "outputs": [],
   "source": [
    "images = driver.find_elements(By.XPATH,\"//img[@class='x5yr21d xu96u03 x10l6tqk x13vifvy x87ps6o xh8yej3']\")"
   ]
  },
  {
   "cell_type": "code",
   "execution_count": 10,
   "id": "9125d995",
   "metadata": {},
   "outputs": [
    {
     "data": {
      "text/plain": [
       "21"
      ]
     },
     "execution_count": 10,
     "metadata": {},
     "output_type": "execute_result"
    }
   ],
   "source": [
    "len(images)"
   ]
  },
  {
   "cell_type": "code",
   "execution_count": 11,
   "id": "080f9695",
   "metadata": {},
   "outputs": [],
   "source": [
    "my_images = set()\n",
    "\n",
    "while True:\n",
    "    for image in images:\n",
    "        source = image.get_attribute('src')\n",
    "        my_images.add(source)\n",
    "    driver.execute_script('window.scrollTo(0, document.body.scrollHeight);')\n",
    "    sleep(3)\n",
    "    images = driver.find_elements(By.XPATH,\"//img[@class='x5yr21d xu96u03 x10l6tqk x13vifvy x87ps6o xh8yej3']\")\n",
    "    if len(my_images)>150:\n",
    "        break"
   ]
  },
  {
   "cell_type": "code",
   "execution_count": 12,
   "id": "2a0de8ec",
   "metadata": {},
   "outputs": [
    {
     "data": {
      "text/plain": [
       "154"
      ]
     },
     "execution_count": 12,
     "metadata": {},
     "output_type": "execute_result"
    }
   ],
   "source": [
    "len(my_images)"
   ]
  },
  {
   "cell_type": "code",
   "execution_count": 13,
   "id": "38069a47",
   "metadata": {},
   "outputs": [
    {
     "name": "stdout",
     "output_type": "stream",
     "text": [
      "JPEG file image0.jpeg downloaded successfully to ./images\n",
      "JPEG file image1.jpeg downloaded successfully to ./images\n",
      "JPEG file image2.jpeg downloaded successfully to ./images\n",
      "JPEG file image3.jpeg downloaded successfully to ./images\n",
      "JPEG file image4.jpeg downloaded successfully to ./images\n",
      "JPEG file image5.jpeg downloaded successfully to ./images\n",
      "JPEG file image6.jpeg downloaded successfully to ./images\n",
      "JPEG file image7.jpeg downloaded successfully to ./images\n",
      "JPEG file image8.jpeg downloaded successfully to ./images\n",
      "JPEG file image9.jpeg downloaded successfully to ./images\n",
      "JPEG file image10.jpeg downloaded successfully to ./images\n",
      "JPEG file image11.jpeg downloaded successfully to ./images\n",
      "JPEG file image12.jpeg downloaded successfully to ./images\n",
      "JPEG file image13.jpeg downloaded successfully to ./images\n",
      "JPEG file image14.jpeg downloaded successfully to ./images\n",
      "JPEG file image15.jpeg downloaded successfully to ./images\n",
      "JPEG file image16.jpeg downloaded successfully to ./images\n",
      "JPEG file image17.jpeg downloaded successfully to ./images\n",
      "JPEG file image18.jpeg downloaded successfully to ./images\n",
      "JPEG file image19.jpeg downloaded successfully to ./images\n",
      "JPEG file image20.jpeg downloaded successfully to ./images\n",
      "JPEG file image21.jpeg downloaded successfully to ./images\n",
      "JPEG file image22.jpeg downloaded successfully to ./images\n",
      "JPEG file image23.jpeg downloaded successfully to ./images\n",
      "JPEG file image24.jpeg downloaded successfully to ./images\n",
      "JPEG file image25.jpeg downloaded successfully to ./images\n",
      "JPEG file image26.jpeg downloaded successfully to ./images\n",
      "JPEG file image27.jpeg downloaded successfully to ./images\n",
      "JPEG file image28.jpeg downloaded successfully to ./images\n",
      "JPEG file image29.jpeg downloaded successfully to ./images\n",
      "JPEG file image30.jpeg downloaded successfully to ./images\n",
      "JPEG file image31.jpeg downloaded successfully to ./images\n",
      "JPEG file image32.jpeg downloaded successfully to ./images\n",
      "JPEG file image33.jpeg downloaded successfully to ./images\n",
      "JPEG file image34.jpeg downloaded successfully to ./images\n",
      "JPEG file image35.jpeg downloaded successfully to ./images\n",
      "JPEG file image36.jpeg downloaded successfully to ./images\n",
      "JPEG file image37.jpeg downloaded successfully to ./images\n",
      "JPEG file image38.jpeg downloaded successfully to ./images\n",
      "JPEG file image39.jpeg downloaded successfully to ./images\n",
      "JPEG file image40.jpeg downloaded successfully to ./images\n",
      "JPEG file image41.jpeg downloaded successfully to ./images\n",
      "JPEG file image42.jpeg downloaded successfully to ./images\n",
      "JPEG file image43.jpeg downloaded successfully to ./images\n",
      "JPEG file image44.jpeg downloaded successfully to ./images\n",
      "JPEG file image45.jpeg downloaded successfully to ./images\n",
      "JPEG file image46.jpeg downloaded successfully to ./images\n",
      "JPEG file image47.jpeg downloaded successfully to ./images\n",
      "JPEG file image48.jpeg downloaded successfully to ./images\n",
      "JPEG file image49.jpeg downloaded successfully to ./images\n",
      "JPEG file image50.jpeg downloaded successfully to ./images\n",
      "JPEG file image51.jpeg downloaded successfully to ./images\n",
      "JPEG file image52.jpeg downloaded successfully to ./images\n",
      "JPEG file image53.jpeg downloaded successfully to ./images\n",
      "JPEG file image54.jpeg downloaded successfully to ./images\n",
      "JPEG file image55.jpeg downloaded successfully to ./images\n",
      "JPEG file image56.jpeg downloaded successfully to ./images\n",
      "JPEG file image57.jpeg downloaded successfully to ./images\n",
      "JPEG file image58.jpeg downloaded successfully to ./images\n",
      "JPEG file image59.jpeg downloaded successfully to ./images\n",
      "JPEG file image60.jpeg downloaded successfully to ./images\n",
      "JPEG file image61.jpeg downloaded successfully to ./images\n",
      "JPEG file image62.jpeg downloaded successfully to ./images\n",
      "JPEG file image63.jpeg downloaded successfully to ./images\n",
      "JPEG file image64.jpeg downloaded successfully to ./images\n",
      "JPEG file image65.jpeg downloaded successfully to ./images\n",
      "JPEG file image66.jpeg downloaded successfully to ./images\n",
      "JPEG file image67.jpeg downloaded successfully to ./images\n",
      "JPEG file image68.jpeg downloaded successfully to ./images\n",
      "JPEG file image69.jpeg downloaded successfully to ./images\n",
      "JPEG file image70.jpeg downloaded successfully to ./images\n",
      "JPEG file image71.jpeg downloaded successfully to ./images\n",
      "JPEG file image72.jpeg downloaded successfully to ./images\n",
      "JPEG file image73.jpeg downloaded successfully to ./images\n",
      "JPEG file image74.jpeg downloaded successfully to ./images\n",
      "JPEG file image75.jpeg downloaded successfully to ./images\n",
      "JPEG file image76.jpeg downloaded successfully to ./images\n",
      "JPEG file image77.jpeg downloaded successfully to ./images\n",
      "JPEG file image78.jpeg downloaded successfully to ./images\n",
      "JPEG file image79.jpeg downloaded successfully to ./images\n",
      "JPEG file image80.jpeg downloaded successfully to ./images\n",
      "JPEG file image81.jpeg downloaded successfully to ./images\n",
      "JPEG file image82.jpeg downloaded successfully to ./images\n",
      "JPEG file image83.jpeg downloaded successfully to ./images\n",
      "JPEG file image84.jpeg downloaded successfully to ./images\n",
      "JPEG file image85.jpeg downloaded successfully to ./images\n",
      "JPEG file image86.jpeg downloaded successfully to ./images\n",
      "JPEG file image87.jpeg downloaded successfully to ./images\n",
      "JPEG file image88.jpeg downloaded successfully to ./images\n",
      "JPEG file image89.jpeg downloaded successfully to ./images\n",
      "JPEG file image90.jpeg downloaded successfully to ./images\n",
      "JPEG file image91.jpeg downloaded successfully to ./images\n",
      "JPEG file image92.jpeg downloaded successfully to ./images\n",
      "JPEG file image93.jpeg downloaded successfully to ./images\n",
      "JPEG file image94.jpeg downloaded successfully to ./images\n",
      "JPEG file image95.jpeg downloaded successfully to ./images\n",
      "JPEG file image96.jpeg downloaded successfully to ./images\n",
      "JPEG file image97.jpeg downloaded successfully to ./images\n",
      "JPEG file image98.jpeg downloaded successfully to ./images\n",
      "JPEG file image99.jpeg downloaded successfully to ./images\n",
      "JPEG file image100.jpeg downloaded successfully to ./images\n",
      "JPEG file image101.jpeg downloaded successfully to ./images\n",
      "JPEG file image102.jpeg downloaded successfully to ./images\n",
      "JPEG file image103.jpeg downloaded successfully to ./images\n",
      "JPEG file image104.jpeg downloaded successfully to ./images\n",
      "JPEG file image105.jpeg downloaded successfully to ./images\n",
      "JPEG file image106.jpeg downloaded successfully to ./images\n",
      "JPEG file image107.jpeg downloaded successfully to ./images\n",
      "JPEG file image108.jpeg downloaded successfully to ./images\n",
      "JPEG file image109.jpeg downloaded successfully to ./images\n",
      "JPEG file image110.jpeg downloaded successfully to ./images\n",
      "JPEG file image111.jpeg downloaded successfully to ./images\n",
      "JPEG file image112.jpeg downloaded successfully to ./images\n",
      "JPEG file image113.jpeg downloaded successfully to ./images\n",
      "JPEG file image114.jpeg downloaded successfully to ./images\n",
      "JPEG file image115.jpeg downloaded successfully to ./images\n",
      "JPEG file image116.jpeg downloaded successfully to ./images\n",
      "JPEG file image117.jpeg downloaded successfully to ./images\n",
      "JPEG file image118.jpeg downloaded successfully to ./images\n",
      "JPEG file image119.jpeg downloaded successfully to ./images\n",
      "JPEG file image120.jpeg downloaded successfully to ./images\n",
      "JPEG file image121.jpeg downloaded successfully to ./images\n",
      "JPEG file image122.jpeg downloaded successfully to ./images\n",
      "JPEG file image123.jpeg downloaded successfully to ./images\n",
      "JPEG file image124.jpeg downloaded successfully to ./images\n",
      "JPEG file image125.jpeg downloaded successfully to ./images\n",
      "JPEG file image126.jpeg downloaded successfully to ./images\n",
      "JPEG file image127.jpeg downloaded successfully to ./images\n",
      "JPEG file image128.jpeg downloaded successfully to ./images\n",
      "JPEG file image129.jpeg downloaded successfully to ./images\n",
      "JPEG file image130.jpeg downloaded successfully to ./images\n",
      "JPEG file image131.jpeg downloaded successfully to ./images\n",
      "JPEG file image132.jpeg downloaded successfully to ./images\n",
      "JPEG file image133.jpeg downloaded successfully to ./images\n",
      "JPEG file image134.jpeg downloaded successfully to ./images\n",
      "JPEG file image135.jpeg downloaded successfully to ./images\n",
      "JPEG file image136.jpeg downloaded successfully to ./images\n",
      "JPEG file image137.jpeg downloaded successfully to ./images\n",
      "JPEG file image138.jpeg downloaded successfully to ./images\n"
     ]
    },
    {
     "name": "stdout",
     "output_type": "stream",
     "text": [
      "JPEG file image139.jpeg downloaded successfully to ./images\n",
      "JPEG file image140.jpeg downloaded successfully to ./images\n",
      "JPEG file image141.jpeg downloaded successfully to ./images\n",
      "JPEG file image142.jpeg downloaded successfully to ./images\n",
      "JPEG file image143.jpeg downloaded successfully to ./images\n",
      "JPEG file image144.jpeg downloaded successfully to ./images\n",
      "JPEG file image145.jpeg downloaded successfully to ./images\n",
      "JPEG file image146.jpeg downloaded successfully to ./images\n",
      "JPEG file image147.jpeg downloaded successfully to ./images\n",
      "JPEG file image148.jpeg downloaded successfully to ./images\n",
      "JPEG file image149.jpeg downloaded successfully to ./images\n",
      "JPEG file image150.jpeg downloaded successfully to ./images\n",
      "JPEG file image151.jpeg downloaded successfully to ./images\n",
      "JPEG file image152.jpeg downloaded successfully to ./images\n",
      "JPEG file image153.jpeg downloaded successfully to ./images\n"
     ]
    }
   ],
   "source": [
    "import os\n",
    "import requests\n",
    "\n",
    "if not os.path.exists(dest_loc):\n",
    "    os.makedirs(dest_loc)\n",
    "\n",
    "for i, image in enumerate(my_images):\n",
    "    response = requests.get(image)\n",
    "\n",
    "    if response.headers['content-type'] == 'image/jpeg':\n",
    "        filename = f'image{i}.jpeg'\n",
    "        filepath = os.path.join(dest_loc, filename)\n",
    "        with open(filepath, 'wb') as f:\n",
    "            f.write(response.content)\n",
    "        print(f'JPEG file {filename} downloaded successfully to {dest_loc}')\n",
    "    else:\n",
    "        print(f'Not a JPEG file: {image}')\n"
   ]
  },
  {
   "cell_type": "code",
   "execution_count": null,
   "id": "466a50cd",
   "metadata": {},
   "outputs": [],
   "source": []
  }
 ],
 "metadata": {
  "kernelspec": {
   "display_name": "Python 3 (ipykernel)",
   "language": "python",
   "name": "python3"
  },
  "language_info": {
   "codemirror_mode": {
    "name": "ipython",
    "version": 3
   },
   "file_extension": ".py",
   "mimetype": "text/x-python",
   "name": "python",
   "nbconvert_exporter": "python",
   "pygments_lexer": "ipython3",
   "version": "3.9.12"
  }
 },
 "nbformat": 4,
 "nbformat_minor": 5
}
