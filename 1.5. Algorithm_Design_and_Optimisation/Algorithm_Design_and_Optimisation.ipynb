{ 
 "cells": [
  {
   "cell_type": "markdown",
   "id": "4658abc9",
   "metadata": {},
   "source": [
    "# Exercise One\n",
    "\n",
    "## 1.1"
   ]
  },
  {
   "cell_type": "code",
   "execution_count": 9,
   "id": "72b146a2",
   "metadata": {},
   "outputs": [],
   "source": [
    "import numpy as np\n",
    "\n",
    "def square_matrix_multiply(A, B):\n",
    "    n = A.shape[0]\n",
    "    c = np.zeros((n, n))\n",
    "    for i in range(n):\n",
    "        for j in range(n):\n",
    "            for k in range(n):\n",
    "                c[i][j] += A[i][k] * B[k][j]\n",
    "    return c"
   ]
  },
  {
   "cell_type": "markdown",
   "id": "5d2819f2",
   "metadata": {},
   "source": [
    "## 1.2"
   ]
  },
  {
   "cell_type": "markdown",
   "id": "c09c0949",
   "metadata": {},
   "source": [
    "The time complexity of the Square-Matrix-Multiply algorithm or its Python implementation is $O(n^3)$.\n",
    "\n",
    "The outer two loops iterate n times each, where n is the size of the matrices. The innermost loop iterates n times as well, giving a total of $n^3$ iterations. Within each iteration,a constant number of arithmetic operations (multiplications and additions) is performed, so the overall time complexity is $O(n^3)$."
   ]
  },
  {
   "cell_type": "markdown",
   "id": "33e8ed58",
   "metadata": {},
   "source": [
    "#### Justification"
   ]
  },
  {
   "cell_type": "code",
   "execution_count": 14,
   "id": "28d66579",
   "metadata": {},
   "outputs": [],
   "source": [
    "A = np.array([[1,5],[3,2]])\n",
    "B = np.array([[2,4],[1,8]])"
   ]
  },
  {
   "cell_type": "code",
   "execution_count": 15,
   "id": "992e148e",
   "metadata": {},
   "outputs": [
    {
     "data": {
      "text/plain": [
       "array([[ 7., 44.],\n",
       "       [ 8., 28.]])"
      ]
     },
     "execution_count": 15,
     "metadata": {},
     "output_type": "execute_result"
    }
   ],
   "source": [
    "square_matrix_multiply(A, B)"
   ]
  },
  {
   "cell_type": "markdown",
   "id": "3dc7e2b7",
   "metadata": {},
   "source": [
    "# Exercise Two\n",
    "## 2.1"
   ]
  },
  {
   "cell_type": "markdown",
   "id": "29141011",
   "metadata": {},
   "source": [
    "Recursiveness : It is a recursive algorithm for matrix multiplication. It recursively divides the input matrices into smaller matrices until a base case is reached, and then combines the results to produce the final matrix product. The algorithm works by first checking if the input matrices are of size 1x1. If so, it computes the single element of the resulting matrix as the product of the corresponding elements in the input matrices. \n",
    "\n",
    "The base case for the recursion occurs when the size of the matrices has been reduced to 1x1. At this point, the algorithm simply computes the single element of the resulting matrix as the product of the corresponding elements in the input matrices.The recursion step reduces the size of the matrices by a factor of 2 in each dimension, resulting in a total of log n recursive calls. Once the base case is reached, the algorithm combines the results from the recursive calls to compute the final matrix product."
   ]
  },
  {
   "cell_type": "markdown",
   "id": "77272aa4",
   "metadata": {},
   "source": [
    "Divide-and-conquer : \n",
    "Divide : In the first step, the algorithm divides the input matrices into four smaller submatrices each of size n/2. This creates four subproblems that can be solved recursively.\n",
    "\n",
    "Conquer: In the second step, the algorithm recursively computes the product of the four submatrices using itself. This is done by calling the algorithm on each of the submatrices, until the base case is reached. The base case occurs when the size of the matrices is 1x1, at which point the algorithm computes the product of the single element in each of the matrices."
   ]
  },
  {
   "cell_type": "markdown",
   "id": "d9de9b31",
   "metadata": {},
   "source": [
    "## 2.2"
   ]
  },
  {
   "cell_type": "markdown",
   "id": "0aedab7f",
   "metadata": {},
   "source": [
    "Base Case: When the size of the matrices is 1x1, the algorithm computes the product of the single element in each of the matrices. This takes constant time, so the complexity of the base case is O(1).\n",
    "\n",
    "Divide Step: In the divide step, the algorithm partitions each matrix into four submatrices of size n/2 x n/2. This step involves only basic arithmetic operations and takes constant time, so the complexity of the divide step is also O(1).\n",
    "\n",
    "Conquer Step: In the conquer step, the algorithm recursively computes the product of the submatrices until it reaches the base case. The algorithm makes 8 recursive calls, each on a submatrix of size n/2 x n/2. \n",
    "\n",
    "Combine Step: In the combine step, the algorithm combines the results from the subproblems to compute the final matrix product. This step involves adding and subtracting matrices of size n/2 x n/2, which takes $O(n^2)$ time.\n",
    "\n",
    "The complexity of the conquer step is O(n^3), and the overall time complexity of the algorithm is $O(n^3 log n)$. This is because the conquer step dominates the complexity of the algorithm, while the divide and combine steps contribute only a logarithmic factor."
   ]
  },
  {
   "cell_type": "markdown",
   "id": "6928230c",
   "metadata": {},
   "source": [
    "## 2.3"
   ]
  },
  {
   "cell_type": "code",
   "execution_count": 17,
   "id": "ef9a9048",
   "metadata": {},
   "outputs": [],
   "source": [
    "def smm_rec(A, B):\n",
    "    n = A.shape[0]\n",
    "    if n == 1:\n",
    "        C = np.zeros((1, 1))\n",
    "        C[0, 0] = A[0, 0] * B[0, 0]\n",
    "    else:\n",
    "        A11, A12, A21, A22 = divide_matrix(A)\n",
    "        B11, B12, B21, B22 = divide_matrix(B)\n",
    "        C11 = smm_rec(A11, B11) + smm_rec(A12, B21)\n",
    "        C12 = smm_rec(A11, B12) + smm_rec(A12, B22)\n",
    "        C21 = smm_rec(A21, B11) + smm_rec(A22, B21)\n",
    "        C22 = smm_rec(A21, B12) + smm_rec(A22, B22)\n",
    "        C = combine_matrix(C11, C12, C21, C22)\n",
    "    return C\n",
    "\n",
    "def divide_matrix(M):\n",
    "    n = M.shape[0] // 2\n",
    "    A11 = M[:n, :n]\n",
    "    A12 = M[:n, n:]\n",
    "    A21 = M[n:, :n]\n",
    "    A22 = M[n:, n:]\n",
    "    return A11, A12, A21, A22\n",
    "\n",
    "def combine_matrix(C11, C12, C21, C22):\n",
    "    n = C11.shape[0]\n",
    "    C = np.zeros((2*n, 2*n))\n",
    "    C[:n, :n] = C11\n",
    "    C[:n, n:] = C12\n",
    "    C[n:, :n] = C21\n",
    "    C[n:, n:] = C22\n",
    "    return C"
   ]
  },
  {
   "cell_type": "markdown",
   "id": "1aa04150",
   "metadata": {},
   "source": [
    "The implementation closely follows the pseudocode, with the main difference being that NumPy arrays are used instead of nested lists. The divide_matrix and combine_matrix functions are relatively straightforward to implement, as they just involve slicing and concatenating arrays."
   ]
  },
  {
   "cell_type": "markdown",
   "id": "f14dce2d",
   "metadata": {},
   "source": [
    "# Exercise Three"
   ]
  },
  {
   "cell_type": "markdown",
   "id": "cf276777",
   "metadata": {},
   "source": [
    "The Strassen algorithm reduces the number of matrix multiplications from 8 to 7, at the cost of increasing the number of additions/subtractions. However, since addition/subtraction of matrices is relatively cheap compared to multiplication, the Strassen algorithm is generally faster than the recursive algorithm from Exercise 2 for large matrices.\n",
    "\n",
    "The complexity of the Strassen algorithm can be analyzed as :\n",
    "\n",
    "D(n) represents the cost of dividing the matrices into quarters. This operation is O(1).\n",
    "R(n) represents the cost of recursively multiplying the quarters. Since we have 7 recursive calls to Strassen() on matrices of size n/2 x n/2, the recurrence relation for R(n) is R(n) = 7R(n/2).\n",
    "C(n) represents the cost of combining the matrices after the recursive calls. This step involves 18 matrix additions/subtractions, which are $O(n^2)$ operations.\n",
    "\n",
    "Using the Master Theorem, we can see that the time complexity of the Strassen algorithm is $O(n^log7)$, which is approximately $O(n^2.81)$. This is an improvement over the $O(n^3)$ complexity of the naive algorithm, but it is not as good as the $O(n^2.373)$ complexity of the currently fastest known algorithm."
   ]
  },
  {
   "cell_type": "code",
   "execution_count": null,
   "id": "707c35a4",
   "metadata": {},
   "outputs": [],
   "source": []
  }
 ],
 "metadata": {
  "kernelspec": {
   "display_name": "Python 3 (ipykernel)",
   "language": "python",
   "name": "python3"
  },
  "language_info": {
   "codemirror_mode": {
    "name": "ipython",
    "version": 3
   },
   "file_extension": ".py",
   "mimetype": "text/x-python",
   "name": "python",
   "nbconvert_exporter": "python",
   "pygments_lexer": "ipython3",
   "version": "3.9.12"
  }
 },
 "nbformat": 4,
 "nbformat_minor": 5
}
