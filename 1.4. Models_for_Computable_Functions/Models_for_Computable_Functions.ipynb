{
 "cells": [
  {
   "cell_type": "markdown",
   "id": "ab930fb2",
   "metadata": {},
   "source": [
    "# Lambda calculus\n",
    "\n",
    "The most obvious place where we encounter lambda expressions in Python is with their 'anonymous functions', so called because you do not have to name these functions. For example, the following is an anonymous function that doubles its input:"
   ]
  },
  {
   "cell_type": "code",
   "execution_count": null,
   "id": "1d8653f6",
   "metadata": {
    "scrolled": false
   },
   "outputs": [],
   "source": [
    "lambda x: x*2"
   ]
  },
  {
   "cell_type": "markdown",
   "id": "674e8225",
   "metadata": {},
   "source": [
    "The defining of the above function corresponds with the 'lambda abstraction rule' of lambda calculus. We have given this function no input, so we get no output either. Furthermore, since the function is anonymous, we cannot reference its name and invoke it later. Instead, we should immediately supply the lambda expression with some input:"
   ]
  },
  {
   "cell_type": "code",
   "execution_count": null,
   "id": "ed8cebc9",
   "metadata": {},
   "outputs": [],
   "source": [
    "(lambda x: x*2)(6)"
   ]
  },
  {
   "cell_type": "markdown",
   "id": "0fa9bb16",
   "metadata": {},
   "source": [
    "Python will then produce the output of this function applied to the input (corresponding to the 'application rule'). We do not need to limit ourselves to one parameter either, as this exponential growth formula shows:"
   ]
  },
  {
   "cell_type": "code",
   "execution_count": null,
   "id": "0c03aa8d",
   "metadata": {},
   "outputs": [],
   "source": [
    "(lambda x, g, t: x*g**t)(2,3,3)"
   ]
  },
  {
   "cell_type": "markdown",
   "id": "51e16998",
   "metadata": {},
   "source": [
    "we actually *can* assign a variable name to a lambda expression if we want, in which case it is just an alternative syntax for defining a function. The following two are identical functions:"
   ]
  },
  {
   "cell_type": "code",
   "execution_count": 26,
   "id": "267834b5",
   "metadata": {},
   "outputs": [
    {
     "data": {
      "text/plain": [
       "8"
      ]
     },
     "execution_count": 26,
     "metadata": {},
     "output_type": "execute_result"
    }
   ],
   "source": [
    "def double_a(x):\n",
    "    return x*2\n",
    "\n",
    "double_b = lambda x: x*2\n",
    "\n",
    "double_b(4)"
   ]
  },
  {
   "cell_type": "markdown",
   "id": "48976e54",
   "metadata": {},
   "source": [
    "In general, the 'normal' way is preferred. A great way to use lambda expressions is to have a regular function (that wants some argument *n*) **return** a lambda expression that involves *n*. Think of the regular function as a template for producing a family of lambda expressions depending on *n*\n",
    "\n",
    "### Exercise 1\n",
    "Define a function with at least 1 parameter that returns a lambda expression with also at least 1 parameter and uses the argument of the function. Show, with a few examples, what the function does for different inputs for the function (and the lambda expression)."
   ]
  },
  {
   "cell_type": "code",
   "execution_count": 12,
   "id": "e3f7f9b1",
   "metadata": {},
   "outputs": [],
   "source": [
    "def power(number):\n",
    "    \n",
    "    square = (lambda x: x*x)(number)\n",
    "    cube = (lambda x: x*x*x)(number)\n",
    "    quartic = (lambda x: x*x*x*x)(number)\n",
    "    \n",
    "    print('The values of the number ' + str(number)+ ' are: ')\n",
    "    print ('Square: ' + str(square))\n",
    "    print ('Cube: ' + str(cube))\n",
    "    print ('Quartic: ' +str(quartic))"
   ]
  },
  {
   "cell_type": "code",
   "execution_count": 13,
   "id": "d2fa68e1",
   "metadata": {},
   "outputs": [
    {
     "name": "stdout",
     "output_type": "stream",
     "text": [
      "The values of the number 2 are: \n",
      "Square: 4\n",
      "Cube: 8\n",
      "Quartic: 16\n",
      "The values of the number 10 are: \n",
      "Square: 100\n",
      "Cube: 1000\n",
      "Quartic: 10000\n",
      "The values of the number 7 are: \n",
      "Square: 49\n",
      "Cube: 343\n",
      "Quartic: 2401\n"
     ]
    }
   ],
   "source": [
    "power(2)\n",
    "power(10)\n",
    "power(7)"
   ]
  },
  {
   "cell_type": "markdown",
   "id": "8c41f3c8",
   "metadata": {},
   "source": [
    "Another frequent use is for manipulating iterable data objects (like lists, dataframes, dictionaries, etc), such as with the .sort() method, or the map() and filter() functions. The map function applies an operation to every element of the data  object. For both map() and filter(), you need to wrap them with list() to actually return the mapped or filtered list; so it takes the form of *list(filter(lambda x: ..., list1))*.\n",
    "\n",
    "### Exercise 2\n",
    "Use lambda expressions and the above-mentioned functions to manipulate the data (a list of dictionaries) below as follows:\n",
    "* sort the data by country\n",
    "* return a filtered list that has only those entries whose 'name' starts with an A or a B\n",
    "* return a filtered list that has only those entries whose 'number' is not divisible by 2 or 3\n",
    "* return a list with the same values as the original, except that each 'number' entry has been doubled\n"
   ]
  },
  {
   "cell_type": "code",
   "execution_count": 1,
   "id": "7d1b8751",
   "metadata": {},
   "outputs": [],
   "source": [
    "data = [{'country': \"Ukraine\",'number': \"3\",'name': \"Derek Bolton\"},{'country': \"United States\",'number': \"3\",'name': \"Britanney Durham\"},{'country': \"China\",'number': \"7\",'name': \"Rachel Dickson\"},{'country': \"India\",'number': \"4\",'name': \"Oren Dominguez\"},{'country': \"Norway\",'number': \"5\",'name': \"Keane Dean\"},{'country': \"New Zealand\",'number': \"8\",'name': \"Tarik Coleman\"},{'country': \"South Africa\",'number': \"3\",'name': \"Uriel Greene\"},{'country': \"China\",'number': \"6\",'name': \"Minerva Shields\"},{'country': \"Norway\",'number': \"7\",'name': \"Robin Butler\"},{'country': \"Germany\",'number': \"7\",'name': \"Stacey Nixon\"},{'country': \"South Africa\",'number': \"4\",'name': \"Glenna Clark\"},{'country': \"Australia\",'number': \"7\",'name': \"Adena Smith\"},{'country': \"Italy\",'number': \"2\",'name': \"Ronan Ellis\"},{'country': \"Chile\",'number': \"1\",'name': \"Ignatius Guy\"},{'country': \"Belgium\",'number': \"8\",'name': \"Barclay Lindsey\"},{'country': \"Peru\",'number': \"2\",'name': \"Fuller Burris\"},{'country': \"Ukraine\",'number': \"2\",'name': \"Kylan Witt\"},{'country': \"United States\",'number': \"1\",'name': \"Kitra Willis\"},{'country': \"Austria\",'number': \"6\",'name': \"Indigo Dillard\"},{'country': \"Chile\",'number': \"3\",'name': \"Benedict Powell\"},{'country': \"Russian Federation\",'number': \"9\",'name': \"Duncan Ware\"},{'country': \"Peru\",'number': \"7\",'name': \"Abra Lewis\"},{'country': \"China\",'number': \"5\",'name': \"Callie Cole\"},{'country': \"United States\",'number': \"0\",'name': \"Cedric Gates\"},{'country': \"Ukraine\",'number': \"7\",'name': \"Malcolm Cox\"},{'country': \"Brazil\",'number': \"6\",'name': \"Connor Potts\"},{'country': \"Sweden\",'number': \"7\",'name': \"Lyle Nguyen\"},{'country': \"United States\",'number': \"3\",'name': \"Rudyard Barrett\"},{'country': \"Costa Rica\",'number': \"2\",'name': \"Judah Brock\"},{'country': \"South Korea\",'number': \"2\",'name': \"Lucius Snider\"},{'country': \"China\",'number': \"1\",'name': \"Cassady Mcdaniel\"},{'country': \"Singapore\",'number': \"2\",'name': \"Allegra Baird\"},{'country': \"Philippines\",'number': \"4\",'name': \"Omar Burgess\"},{'country': \"Turkey\",'number': \"7\",'name': \"Kenyon Rosa\"},{'country': \"Poland\",'number': \"6\",'name': \"Yen Sargent\"},{'country': \"China\",'number': \"3\",'name': \"Rashad Grimes\"},{'country': \"Spain\",'number': \"7\",'name': \"Tamekah Gutierrez\"},{'country': \"Ukraine\",'number': \"3\",'name': \"Liberty Mathis\"},{'country': \"Mexico\",'number': \"3\",'name': \"Rylee Sharpe\"},{'country': \"Mexico\",'number': \"3\",'name': \"Brynn Hinton\"},{'country': \"Sweden\",'number': \"2\",'name': \"Quinn Berg\"},{'country': \"Philippines\",'number': \"9\",'name': \"Simone Tanner\"},{'country': \"Ireland\",'number': \"2\",'name': \"Simon Giles\"},{'country': \"United Kingdom\",'number': \"10\",'name': \"Zenia Coffey\"},{'country': \"Mexico\",'number': \"2\",'name': \"Yael Glass\"},{'country': \"Colombia\",'number': \"5\",'name': \"Inga Russell\"},{'country': \"United Kingdom\",'number': \"1\",'name': \"Brendan Pearson\"},{'country': \"Austria\",'number': \"3\",'name': \"Shafira Parks\"},{'country': \"India\",'number': \"9\",'name': \"Dante Charles\"},{'country': \"Sweden\",'number': \"8\",'name': \"Kylee Good\"},{'country': \"Canada\",'number': \"1\",'name': \"September Bryan\"},{'country': \"Costa Rica\",'number': \"5\",'name': \"Hakeem Flowers\"},{'country': \"Peru\",'number': \"0\",'name': \"Ross Moss\"},{'country': \"Spain\",'number': \"8\",'name': \"Bo Hardy\"},{'country': \"Austria\",'number': \"2\",'name': \"Davis Cardenas\"},{'country': \"Ireland\",'number': \"2\",'name': \"Lane Chandler\"},{'country': \"Ukraine\",'number': \"3\",'name': \"Mohammad Holder\"},{'country': \"Vietnam\",'number': \"8\",'name': \"Jonas Bryan\"},{'country': \"Costa Rica\",'number': \"0\",'name': \"Eve Rivas\"},{'country': \"Australia\",'number': \"4\",'name': \"Elton Collins\"},{'country': \"Norway\",'number': \"8\",'name': \"Cain Fields\"},{'country': \"Vietnam\",'number': \"0\",'name': \"Iliana Daniels\"},{'country': \"Mexico\",'number': \"7\",'name': \"Rajah Robles\"},{'country': \"Australia\",'number': \"3\",'name': \"Charity Conner\"},{'country': \"Chile\",'number': \"5\",'name': \"Kay Parsons\"},{'country': \"Ireland\",'number': \"4\",'name': \"Rachel Howell\"},{'country': \"Singapore\",'number': \"3\",'name': \"Walter Forbes\"},{'country': \"Colombia\",'number': \"1\",'name': \"Gray Hayden\"},{'country': \"Netherlands\",'number': \"9\",'name': \"Ivana Compton\"},{'country': \"South Korea\",'number': \"8\",'name': \"Jamal Kelly\"},{'country': \"Pakistan\",'number': \"0\",'name': \"Robert Cunningham\"},{'country': \"Spain\",'number': \"4\",'name': \"Ignatius Newman\"},{'country': \"Canada\",'number': \"8\",'name': \"Gisela Glenn\"},{'country': \"Vietnam\",'number': \"1\",'name': \"Eliana Nicholson\"},{'country': \"Ukraine\",'number': \"4\",'name': \"Christen James\"},{'country': \"France\",'number': \"4\",'name': \"Devin Spears\"},{'country': \"Costa Rica\",'number': \"3\",'name': \"Phelan Hodges\"},{'country': \"Chile\",'number': \"4\",'name': \"Stewart Coffey\"},{'country': \"Singapore\",'number': \"6\",'name': \"Kasper Justice\"},{'country': \"Italy\",'number': \"7\",'name': \"Xanthus Wilkerson\"},{'country': \"Italy\",'number': \"6\",'name': \"Debra Melendez\"},{'country': \"Germany\",'number': \"6\",'name': \"Galvin Morrison\"},{'country': \"Norway\",'number': \"10\",'name': \"Britanney Daniels\"},{'country': \"Italy\",'number': \"8\",'name': \"Steel Cantu\"},{'country': \"Mexico\",'number': \"7\",'name': \"Graham Ewing\"},{'country': \"China\",'number': \"3\",'name': \"Maia Dunn\"},{'country': \"Australia\",'number': \"3\",'name': \"Violet Thornton\"},{'country': \"Canada\",'number': \"5\",'name': \"Cleo Cardenas\"},{'country': \"United States\",'number': \"8\",'name': \"Castor Bowen\"},{'country': \"Australia\",'number': \"8\",'name': \"Wyatt Carey\"},{'country': \"Philippines\",'number': \"5\",'name': \"Paul Padilla\"},{'country': \"Costa Rica\",'number': \"8\",'name': \"Germane Welch\"},{'country': \"South Korea\",'number': \"4\",'name': \"Zephr Deleon\"},{'country': \"Russian Federation\",'number': \"9\",'name': \"Lionel Armstrong\"},{'country': \"Brazil\",'number': \"6\",'name': \"Eleanor Solomon\"},{'country': \"Nigeria\",'number': \"7\",'name': \"Rachel Woods\"},{'country': \"Indonesia\",'number': \"9\",'name': \"Philip Taylor\"},{'country': \"Brazil\",'number': \"7\",'name': \"Lilah Shelton\"},{'country': \"United Kingdom\",'number': \"3\",'name': \"Gillian Harrington\"},{'country': \"Mexico\",'number': \"3\",'name': \"Odessa Sutton\"}]\n"
   ]
  },
  {
   "cell_type": "code",
   "execution_count": 10,
   "id": "f0934d41",
   "metadata": {
    "scrolled": true
   },
   "outputs": [
    {
     "name": "stdout",
     "output_type": "stream",
     "text": [
      "The data printed sorting by country: \n",
      "[{'country': 'Australia', 'number': '7', 'name': 'Adena Smith'}, {'country': 'Australia', 'number': '4', 'name': 'Elton Collins'}, {'country': 'Australia', 'number': '3', 'name': 'Charity Conner'}, {'country': 'Australia', 'number': '3', 'name': 'Violet Thornton'}, {'country': 'Australia', 'number': '8', 'name': 'Wyatt Carey'}, {'country': 'Austria', 'number': '6', 'name': 'Indigo Dillard'}, {'country': 'Austria', 'number': '3', 'name': 'Shafira Parks'}, {'country': 'Austria', 'number': '2', 'name': 'Davis Cardenas'}, {'country': 'Belgium', 'number': '8', 'name': 'Barclay Lindsey'}, {'country': 'Brazil', 'number': '6', 'name': 'Connor Potts'}, {'country': 'Brazil', 'number': '6', 'name': 'Eleanor Solomon'}, {'country': 'Brazil', 'number': '7', 'name': 'Lilah Shelton'}, {'country': 'Canada', 'number': '1', 'name': 'September Bryan'}, {'country': 'Canada', 'number': '8', 'name': 'Gisela Glenn'}, {'country': 'Canada', 'number': '5', 'name': 'Cleo Cardenas'}, {'country': 'Chile', 'number': '1', 'name': 'Ignatius Guy'}, {'country': 'Chile', 'number': '3', 'name': 'Benedict Powell'}, {'country': 'Chile', 'number': '5', 'name': 'Kay Parsons'}, {'country': 'Chile', 'number': '4', 'name': 'Stewart Coffey'}, {'country': 'China', 'number': '7', 'name': 'Rachel Dickson'}, {'country': 'China', 'number': '6', 'name': 'Minerva Shields'}, {'country': 'China', 'number': '5', 'name': 'Callie Cole'}, {'country': 'China', 'number': '1', 'name': 'Cassady Mcdaniel'}, {'country': 'China', 'number': '3', 'name': 'Rashad Grimes'}, {'country': 'China', 'number': '3', 'name': 'Maia Dunn'}, {'country': 'Colombia', 'number': '5', 'name': 'Inga Russell'}, {'country': 'Colombia', 'number': '1', 'name': 'Gray Hayden'}, {'country': 'Costa Rica', 'number': '2', 'name': 'Judah Brock'}, {'country': 'Costa Rica', 'number': '5', 'name': 'Hakeem Flowers'}, {'country': 'Costa Rica', 'number': '0', 'name': 'Eve Rivas'}, {'country': 'Costa Rica', 'number': '3', 'name': 'Phelan Hodges'}, {'country': 'Costa Rica', 'number': '8', 'name': 'Germane Welch'}, {'country': 'France', 'number': '4', 'name': 'Devin Spears'}, {'country': 'Germany', 'number': '7', 'name': 'Stacey Nixon'}, {'country': 'Germany', 'number': '6', 'name': 'Galvin Morrison'}, {'country': 'India', 'number': '4', 'name': 'Oren Dominguez'}, {'country': 'India', 'number': '9', 'name': 'Dante Charles'}, {'country': 'Indonesia', 'number': '9', 'name': 'Philip Taylor'}, {'country': 'Ireland', 'number': '2', 'name': 'Simon Giles'}, {'country': 'Ireland', 'number': '2', 'name': 'Lane Chandler'}, {'country': 'Ireland', 'number': '4', 'name': 'Rachel Howell'}, {'country': 'Italy', 'number': '2', 'name': 'Ronan Ellis'}, {'country': 'Italy', 'number': '7', 'name': 'Xanthus Wilkerson'}, {'country': 'Italy', 'number': '6', 'name': 'Debra Melendez'}, {'country': 'Italy', 'number': '8', 'name': 'Steel Cantu'}, {'country': 'Mexico', 'number': '3', 'name': 'Rylee Sharpe'}, {'country': 'Mexico', 'number': '3', 'name': 'Brynn Hinton'}, {'country': 'Mexico', 'number': '2', 'name': 'Yael Glass'}, {'country': 'Mexico', 'number': '7', 'name': 'Rajah Robles'}, {'country': 'Mexico', 'number': '7', 'name': 'Graham Ewing'}, {'country': 'Mexico', 'number': '3', 'name': 'Odessa Sutton'}, {'country': 'Netherlands', 'number': '9', 'name': 'Ivana Compton'}, {'country': 'New Zealand', 'number': '8', 'name': 'Tarik Coleman'}, {'country': 'Nigeria', 'number': '7', 'name': 'Rachel Woods'}, {'country': 'Norway', 'number': '5', 'name': 'Keane Dean'}, {'country': 'Norway', 'number': '7', 'name': 'Robin Butler'}, {'country': 'Norway', 'number': '8', 'name': 'Cain Fields'}, {'country': 'Norway', 'number': '10', 'name': 'Britanney Daniels'}, {'country': 'Pakistan', 'number': '0', 'name': 'Robert Cunningham'}, {'country': 'Peru', 'number': '2', 'name': 'Fuller Burris'}, {'country': 'Peru', 'number': '7', 'name': 'Abra Lewis'}, {'country': 'Peru', 'number': '0', 'name': 'Ross Moss'}, {'country': 'Philippines', 'number': '4', 'name': 'Omar Burgess'}, {'country': 'Philippines', 'number': '9', 'name': 'Simone Tanner'}, {'country': 'Philippines', 'number': '5', 'name': 'Paul Padilla'}, {'country': 'Poland', 'number': '6', 'name': 'Yen Sargent'}, {'country': 'Russian Federation', 'number': '9', 'name': 'Duncan Ware'}, {'country': 'Russian Federation', 'number': '9', 'name': 'Lionel Armstrong'}, {'country': 'Singapore', 'number': '2', 'name': 'Allegra Baird'}, {'country': 'Singapore', 'number': '3', 'name': 'Walter Forbes'}, {'country': 'Singapore', 'number': '6', 'name': 'Kasper Justice'}, {'country': 'South Africa', 'number': '3', 'name': 'Uriel Greene'}, {'country': 'South Africa', 'number': '4', 'name': 'Glenna Clark'}, {'country': 'South Korea', 'number': '2', 'name': 'Lucius Snider'}, {'country': 'South Korea', 'number': '8', 'name': 'Jamal Kelly'}, {'country': 'South Korea', 'number': '4', 'name': 'Zephr Deleon'}, {'country': 'Spain', 'number': '7', 'name': 'Tamekah Gutierrez'}, {'country': 'Spain', 'number': '8', 'name': 'Bo Hardy'}, {'country': 'Spain', 'number': '4', 'name': 'Ignatius Newman'}, {'country': 'Sweden', 'number': '7', 'name': 'Lyle Nguyen'}, {'country': 'Sweden', 'number': '2', 'name': 'Quinn Berg'}, {'country': 'Sweden', 'number': '8', 'name': 'Kylee Good'}, {'country': 'Turkey', 'number': '7', 'name': 'Kenyon Rosa'}, {'country': 'Ukraine', 'number': '3', 'name': 'Derek Bolton'}, {'country': 'Ukraine', 'number': '2', 'name': 'Kylan Witt'}, {'country': 'Ukraine', 'number': '7', 'name': 'Malcolm Cox'}, {'country': 'Ukraine', 'number': '3', 'name': 'Liberty Mathis'}, {'country': 'Ukraine', 'number': '3', 'name': 'Mohammad Holder'}, {'country': 'Ukraine', 'number': '4', 'name': 'Christen James'}, {'country': 'United Kingdom', 'number': '10', 'name': 'Zenia Coffey'}, {'country': 'United Kingdom', 'number': '1', 'name': 'Brendan Pearson'}, {'country': 'United Kingdom', 'number': '3', 'name': 'Gillian Harrington'}, {'country': 'United States', 'number': '3', 'name': 'Britanney Durham'}, {'country': 'United States', 'number': '1', 'name': 'Kitra Willis'}, {'country': 'United States', 'number': '0', 'name': 'Cedric Gates'}, {'country': 'United States', 'number': '3', 'name': 'Rudyard Barrett'}, {'country': 'United States', 'number': '8', 'name': 'Castor Bowen'}, {'country': 'Vietnam', 'number': '8', 'name': 'Jonas Bryan'}, {'country': 'Vietnam', 'number': '0', 'name': 'Iliana Daniels'}, {'country': 'Vietnam', 'number': '1', 'name': 'Eliana Nicholson'}]\n"
     ]
    }
   ],
   "source": [
    "print(\"The data printed sorting by country: \")\n",
    "print(sorted(data, key=lambda x: x['country']))"
   ]
  },
  {
   "cell_type": "code",
   "execution_count": 6,
   "id": "b1bb3fb3",
   "metadata": {},
   "outputs": [
    {
     "name": "stdout",
     "output_type": "stream",
     "text": [
      "[{'country': 'Australia', 'number': '7', 'name': 'Adena Smith'}, {'country': 'Belgium', 'number': '8', 'name': 'Barclay Lindsey'}, {'country': 'Peru', 'number': '7', 'name': 'Abra Lewis'}, {'country': 'Brazil', 'number': '6', 'name': 'Connor Potts'}, {'country': 'Singapore', 'number': '2', 'name': 'Allegra Baird'}, {'country': 'Brazil', 'number': '6', 'name': 'Eleanor Solomon'}, {'country': 'Brazil', 'number': '7', 'name': 'Lilah Shelton'}]\n"
     ]
    }
   ],
   "source": [
    "print(list(filter(lambda x: (x['name'][0] == 'A' ) or (x['country'][0] == 'B'), data)))"
   ]
  },
  {
   "cell_type": "code",
   "execution_count": 12,
   "id": "c95002ea",
   "metadata": {},
   "outputs": [
    {
     "name": "stdout",
     "output_type": "stream",
     "text": [
      "[{'country': 'China', 'number': '7', 'name': 'Rachel Dickson'}, {'country': 'Norway', 'number': '5', 'name': 'Keane Dean'}, {'country': 'Norway', 'number': '7', 'name': 'Robin Butler'}, {'country': 'Germany', 'number': '7', 'name': 'Stacey Nixon'}, {'country': 'Australia', 'number': '7', 'name': 'Adena Smith'}, {'country': 'Chile', 'number': '1', 'name': 'Ignatius Guy'}, {'country': 'United States', 'number': '1', 'name': 'Kitra Willis'}, {'country': 'Peru', 'number': '7', 'name': 'Abra Lewis'}, {'country': 'China', 'number': '5', 'name': 'Callie Cole'}, {'country': 'Ukraine', 'number': '7', 'name': 'Malcolm Cox'}, {'country': 'Sweden', 'number': '7', 'name': 'Lyle Nguyen'}, {'country': 'China', 'number': '1', 'name': 'Cassady Mcdaniel'}, {'country': 'Turkey', 'number': '7', 'name': 'Kenyon Rosa'}, {'country': 'Spain', 'number': '7', 'name': 'Tamekah Gutierrez'}, {'country': 'Colombia', 'number': '5', 'name': 'Inga Russell'}, {'country': 'United Kingdom', 'number': '1', 'name': 'Brendan Pearson'}, {'country': 'Canada', 'number': '1', 'name': 'September Bryan'}, {'country': 'Costa Rica', 'number': '5', 'name': 'Hakeem Flowers'}, {'country': 'Mexico', 'number': '7', 'name': 'Rajah Robles'}, {'country': 'Chile', 'number': '5', 'name': 'Kay Parsons'}, {'country': 'Colombia', 'number': '1', 'name': 'Gray Hayden'}, {'country': 'Vietnam', 'number': '1', 'name': 'Eliana Nicholson'}, {'country': 'Italy', 'number': '7', 'name': 'Xanthus Wilkerson'}, {'country': 'Mexico', 'number': '7', 'name': 'Graham Ewing'}, {'country': 'Canada', 'number': '5', 'name': 'Cleo Cardenas'}, {'country': 'Philippines', 'number': '5', 'name': 'Paul Padilla'}, {'country': 'Nigeria', 'number': '7', 'name': 'Rachel Woods'}, {'country': 'Brazil', 'number': '7', 'name': 'Lilah Shelton'}]\n"
     ]
    }
   ],
   "source": [
    "print(list(filter(lambda x: (int(x['number']) %2!=0) and (int(x['number'])%3!=0), data)))"
   ]
  },
  {
   "cell_type": "code",
   "execution_count": 22,
   "id": "5aa703ad",
   "metadata": {},
   "outputs": [
    {
     "name": "stdout",
     "output_type": "stream",
     "text": [
      "[6, 6, 14, 8, 10, 16, 6, 12, 14, 14, 8, 14, 4, 2, 16, 4, 4, 2, 12, 6, 18, 14, 10, 0, 14, 12, 14, 6, 4, 4, 2, 4, 8, 14, 12, 6, 14, 6, 6, 6, 4, 18, 4, 20, 4, 10, 2, 6, 18, 16, 2, 10, 0, 16, 4, 4, 6, 16, 0, 8, 16, 0, 14, 6, 10, 8, 6, 2, 18, 16, 0, 8, 16, 2, 8, 8, 6, 8, 12, 14, 12, 12, 20, 16, 14, 6, 6, 10, 16, 16, 10, 16, 8, 18, 12, 14, 18, 14, 6, 6]\n"
     ]
    }
   ],
   "source": [
    "print(list(map(lambda x:(int(x['number'])*2),data)))"
   ]
  },
  {
   "cell_type": "code",
   "execution_count": 3,
   "id": "7d20d4f1",
   "metadata": {},
   "outputs": [],
   "source": [
    "import pandas as pd"
   ]
  },
  {
   "cell_type": "code",
   "execution_count": 38,
   "id": "9fd05ca9",
   "metadata": {},
   "outputs": [
    {
     "data": {
      "text/html": [
       "<div>\n",
       "<style scoped>\n",
       "    .dataframe tbody tr th:only-of-type {\n",
       "        vertical-align: middle;\n",
       "    }\n",
       "\n",
       "    .dataframe tbody tr th {\n",
       "        vertical-align: top;\n",
       "    }\n",
       "\n",
       "    .dataframe thead th {\n",
       "        text-align: right;\n",
       "    }\n",
       "</style>\n",
       "<table border=\"1\" class=\"dataframe\">\n",
       "  <thead>\n",
       "    <tr style=\"text-align: right;\">\n",
       "      <th></th>\n",
       "      <th>country</th>\n",
       "      <th>number</th>\n",
       "      <th>name</th>\n",
       "    </tr>\n",
       "  </thead>\n",
       "  <tbody>\n",
       "    <tr>\n",
       "      <th>0</th>\n",
       "      <td>Ukraine</td>\n",
       "      <td>6</td>\n",
       "      <td>Derek Bolton</td>\n",
       "    </tr>\n",
       "    <tr>\n",
       "      <th>1</th>\n",
       "      <td>United States</td>\n",
       "      <td>6</td>\n",
       "      <td>Britanney Durham</td>\n",
       "    </tr>\n",
       "    <tr>\n",
       "      <th>2</th>\n",
       "      <td>China</td>\n",
       "      <td>14</td>\n",
       "      <td>Rachel Dickson</td>\n",
       "    </tr>\n",
       "    <tr>\n",
       "      <th>3</th>\n",
       "      <td>India</td>\n",
       "      <td>8</td>\n",
       "      <td>Oren Dominguez</td>\n",
       "    </tr>\n",
       "    <tr>\n",
       "      <th>4</th>\n",
       "      <td>Norway</td>\n",
       "      <td>10</td>\n",
       "      <td>Keane Dean</td>\n",
       "    </tr>\n",
       "    <tr>\n",
       "      <th>...</th>\n",
       "      <td>...</td>\n",
       "      <td>...</td>\n",
       "      <td>...</td>\n",
       "    </tr>\n",
       "    <tr>\n",
       "      <th>95</th>\n",
       "      <td>Nigeria</td>\n",
       "      <td>14</td>\n",
       "      <td>Rachel Woods</td>\n",
       "    </tr>\n",
       "    <tr>\n",
       "      <th>96</th>\n",
       "      <td>Indonesia</td>\n",
       "      <td>18</td>\n",
       "      <td>Philip Taylor</td>\n",
       "    </tr>\n",
       "    <tr>\n",
       "      <th>97</th>\n",
       "      <td>Brazil</td>\n",
       "      <td>14</td>\n",
       "      <td>Lilah Shelton</td>\n",
       "    </tr>\n",
       "    <tr>\n",
       "      <th>98</th>\n",
       "      <td>United Kingdom</td>\n",
       "      <td>6</td>\n",
       "      <td>Gillian Harrington</td>\n",
       "    </tr>\n",
       "    <tr>\n",
       "      <th>99</th>\n",
       "      <td>Mexico</td>\n",
       "      <td>6</td>\n",
       "      <td>Odessa Sutton</td>\n",
       "    </tr>\n",
       "  </tbody>\n",
       "</table>\n",
       "<p>100 rows × 3 columns</p>\n",
       "</div>"
      ],
      "text/plain": [
       "           country  number                name\n",
       "0          Ukraine       6        Derek Bolton\n",
       "1    United States       6    Britanney Durham\n",
       "2            China      14      Rachel Dickson\n",
       "3            India       8      Oren Dominguez\n",
       "4           Norway      10          Keane Dean\n",
       "..             ...     ...                 ...\n",
       "95         Nigeria      14        Rachel Woods\n",
       "96       Indonesia      18       Philip Taylor\n",
       "97          Brazil      14       Lilah Shelton\n",
       "98  United Kingdom       6  Gillian Harrington\n",
       "99          Mexico       6       Odessa Sutton\n",
       "\n",
       "[100 rows x 3 columns]"
      ]
     },
     "execution_count": 38,
     "metadata": {},
     "output_type": "execute_result"
    }
   ],
   "source": [
    "df = pd.DataFrame(data)\n",
    "df['number'] = df['number'].map(lambda x: int(x)*2)\n",
    "df"
   ]
  },
  {
   "cell_type": "markdown",
   "id": "e38c201d",
   "metadata": {},
   "source": [
    "# Recursive functions\n",
    "### For any recursive function you write in this section, make clear (with comments) what your base cases and your recursive cases are.\n",
    "Remember the example of the factorial function from the lecture. I will reproduce the Python code here:"
   ]
  },
  {
   "cell_type": "code",
   "execution_count": 182,
   "id": "fe8e5c07",
   "metadata": {},
   "outputs": [
    {
     "name": "stdout",
     "output_type": "stream",
     "text": [
      "The factorial of 6 is 720\n"
     ]
    }
   ],
   "source": [
    "def factorial(x):\n",
    "    if x == 0: # base case\n",
    "        return 1\n",
    "    else: # recursive case\n",
    "        return (x * factorial(x-1))\n",
    "\n",
    "\n",
    "num = 6\n",
    "print(\"The factorial of\", num, \"is\", factorial(num))"
   ]
  },
  {
   "cell_type": "markdown",
   "id": "fec13b6f",
   "metadata": {},
   "source": [
    "The other example in the lecture was concerned with Fibonacci numbers.\n",
    "### Exercise 1\n",
    "#### a\n",
    "Implement this Fibonacci function **recursively** in Python:"
   ]
  },
  {
   "cell_type": "code",
   "execution_count": 2,
   "id": "5aa9d82d",
   "metadata": {},
   "outputs": [
    {
     "name": "stdout",
     "output_type": "stream",
     "text": [
      "The fibonnaci of 10 is 55\n"
     ]
    }
   ],
   "source": [
    "def fibonacci(n):\n",
    "    if n in {0, 1}:\n",
    "        return n\n",
    "    else:\n",
    "        return (fibonacci(n-1)+ fibonacci (n-2))\n",
    "    \n",
    "x = 10\n",
    "print (\"The fibonnaci of\", x, \"is\", fibonacci(x))"
   ]
  },
  {
   "cell_type": "markdown",
   "id": "a89ff1b4",
   "metadata": {},
   "source": [
    "#### b\n",
    "Test your function on some higher numbers. What do you notice? What do you think is causing this?"
   ]
  },
  {
   "cell_type": "markdown",
   "id": "f5a1a52f",
   "metadata": {},
   "source": [
    "The function takes longer time to run on higher numbers. This could be due to the fact that the functions runs for that many times in a loop. For instance, if the number is 100, the function has to run for 98 and 99 that many times which causes it to ender into a big loop and this process takes plenty of time."
   ]
  },
  {
   "cell_type": "markdown",
   "id": "02d6b0c3",
   "metadata": {},
   "source": []
  },
  {
   "cell_type": "markdown",
   "id": "0ccdd531",
   "metadata": {},
   "source": [
    "### Exercise 2\n",
    "Write a recursive function that takes a list of integers as input and returns the maximum integer stored in the list. Thinking recursively, the maximum is either the first value in the list or the maximum of the rest of the list, whichever is larger. If the list only has 1 integer, then its maximum is this single value, naturally."
   ]
  },
  {
   "cell_type": "code",
   "execution_count": 9,
   "id": "461dcfd1",
   "metadata": {},
   "outputs": [
    {
     "name": "stdout",
     "output_type": "stream",
     "text": [
      "Please enter a list of numbers: 12,-50,33,94,21\n",
      "The largest number is:  94\n"
     ]
    }
   ],
   "source": [
    "def Max(list):\n",
    "    if len(list) == 1:\n",
    "        return list[0]\n",
    "    else:\n",
    "        m = Max(list[1:])\n",
    "        return m if m > list[0] else list[0]\n",
    "\n",
    "def main():\n",
    "    list = eval(input(\"Please enter a list of numbers: \"))\n",
    "    print(\"The largest number is: \", Max(list))\n",
    "\n",
    "main()"
   ]
  },
  {
   "cell_type": "markdown",
   "id": "f7d5ea73",
   "metadata": {},
   "source": [
    "### Exercise 3\n",
    "Write a recursive function **letterCount** that takes a string and a character as input, and returns how many times the character occurs in the string. For example, it should have the following outputs:\n",
    "* **letterCount**(\"Julian\", 'i') = 1\n",
    "* **letterCount**(\"Ceel\", 'e') = 2\n",
    "* **letterCount**(\"Joris\", 'a') = 0"
   ]
  },
  {
   "cell_type": "code",
   "execution_count": 2,
   "id": "cc3944a1",
   "metadata": {},
   "outputs": [
    {
     "name": "stdout",
     "output_type": "stream",
     "text": [
      "Please enter a name : Joris\n",
      "Please enter a character to check: a\n",
      "a appeared 0 times\n"
     ]
    }
   ],
   "source": [
    "def letterCount(char,text):\n",
    "    if len(text)== 0:\n",
    "        return 0\n",
    "    count = 1 if text[0] == char else 0\n",
    "    return count + letterCount(char, text[1:]) \n",
    "\n",
    "def main():\n",
    "    text = input('Please enter a name : ')\n",
    "    char = input('Please enter a character to check: ')\n",
    "    print (char , 'appeared',letterCount(char,text), 'times' )\n",
    "\n",
    "main()"
   ]
  },
  {
   "cell_type": "markdown",
   "id": "bcdb69fe",
   "metadata": {},
   "source": [
    "# Turing Machines\n",
    "### The exercises for this section are made outside of this notebook. To hand in, either add a separate file with the code to your personal GitHub map, or copy-paste it into the box at the bottom of the notebook. Make sure to clearly label which code belongs to which exercise!\n",
    "Go to turingmachine.io and open the 'binary increment' example at the top. Play around with it and try to understand what is happening.\n",
    "\n",
    "### Exercise 1\n",
    "Make the exercises for the binary increment that are printed below the code on the web page. I will reproduce them here for your convenience:\n",
    "\n",
    "exercises\n",
    "\n",
    "\t# • Modify the machine to always halt on the leftmost digit\n",
    "\t#   (regardless of the number's length).\n",
    "\t#   Hint: add a state between carry and done.\n",
    "\n",
    "\t# • Make a machine that adds 2 instead of 1.\n",
    "\t#   Hint: 2 is '10' in binary, so the last digit is unaffected.\n",
    "\t#   Alternative hint: chain together two copies of the machine from\n",
    "\t#   the first exercise (renaming the states of the second copy).\n",
    "\n",
    "\t# • Make a machine to subtract 1.\n",
    "\t#   To simplify things, assume the input is always greater than 0.\n",
    "\n",
    "### Exercise 2\n",
    "Choose an example at the top (different from 'binary increment') that has complementery exercises and do those.\n",
    "\n"
   ]
  },
  {
   "cell_type": "code",
   "execution_count": null,
   "id": "c49692d6",
   "metadata": {},
   "outputs": [],
   "source": [
    "Exercise 1 : Modify the machine to always halt on the leftmost digit\n",
    "\n",
    "# Adds 1 to a binary number.\n",
    "input: '1011'\n",
    "blank: ' '\n",
    "start state: right\n",
    "table:\n",
    "  # scan to the rightmost digit\n",
    "  right:\n",
    "    [1,0]: R\n",
    "    ' '  : {L: carry}\n",
    "  # then carry the 1\n",
    "  carry:\n",
    "    1      : {write: 0, L}\n",
    "    [0,' ']: {write: 1, L: halt}\n",
    "  halt:\n",
    "    [1,0] : L\n",
    "    ' ' : {R: done}\n",
    "  done:"
   ]
  },
  {
   "cell_type": "code",
   "execution_count": null,
   "id": "f9cc9d1d",
   "metadata": {},
   "outputs": [],
   "source": [
    "Exercise 1 : Make a machine that adds 2\n",
    "\n",
    "# Adds 1 to a binary number.\n",
    "input: '1011'\n",
    "blank: ' '\n",
    "start state: right\n",
    "table:\n",
    "  # scan to the rightmost digit\n",
    "  right:\n",
    "    [1,0]: R\n",
    "    ' '  : {L: carry}\n",
    "  # move over the last digit unaffected\n",
    "  carry:\n",
    "    [1,0] :  {L: add}\n",
    "  add:\n",
    "    1      : {write: 0, L}\n",
    "    [0,' ']: {write: 1, L: done}\n",
    "  done:"
   ]
  },
  {
   "cell_type": "code",
   "execution_count": null,
   "id": "487d965f",
   "metadata": {},
   "outputs": [],
   "source": [
    "Exercise 1 : Make a machine to subtract 1 (Case 1 : when last digit is 1)\n",
    "\n",
    "input: '1011'\n",
    "blank: ' '\n",
    "start state: right\n",
    "table:\n",
    "  # scan to the rightmost digit\n",
    "  right:\n",
    "    [1,0]: R\n",
    "    ' '  : {L: carry}\n",
    "  carry:\n",
    "    1      : {write: 0, L: halt}\n",
    "  halt:\n",
    "    [1,0]: {L: done}\n",
    "  done:"
   ]
  },
  {
   "cell_type": "code",
   "execution_count": null,
   "id": "d5017129",
   "metadata": {},
   "outputs": [],
   "source": [
    "Exercise 1 : Make a machine to subtract 1 (Case 2 : when last digit is 0)\n",
    "\n",
    "input: '1010'\n",
    "blank: ' '\n",
    "start state: right\n",
    "table:\n",
    "  # scan to the rightmost digit\n",
    "  right:\n",
    "    [1,0]: R\n",
    "    ' '  : {L: carry}\n",
    "  carry:\n",
    "    0      : {write: 1, L: halt}\n",
    "  halt:\n",
    "    1: {write : 0, L: done}\n",
    "  done:"
   ]
  },
  {
   "cell_type": "code",
   "execution_count": null,
   "id": "4376f42f",
   "metadata": {},
   "outputs": [],
   "source": [
    "Exercise 1 : Make a machine to subtract 1 (Case 3 : when last digit is 0 and input 1000)\n",
    "\n",
    "input: '1000'\n",
    "blank: ' '\n",
    "start state: right\n",
    "table:\n",
    "  # scan to the rightmost digit\n",
    "  right:\n",
    "    [1,0]: R\n",
    "    ' '  : {L: carry}\n",
    "  carry:\n",
    "    0      : {write: 1, L: halt}\n",
    "  halt:\n",
    "    0: {write : 1, L: done}\n",
    "  done:"
   ]
  },
  {
   "cell_type": "code",
   "execution_count": null,
   "id": "642c1865",
   "metadata": {},
   "outputs": [],
   "source": [
    "Exercise 2 : Edit the machine to copy the string indefinitely,\n",
    "#   i.e. given the input '11', produce 11011011011...\n",
    "\n",
    "input: '11'\n",
    "blank: 0\n",
    "start state: each\n",
    "table:\n",
    "  each:\n",
    "    0: {R: each}\n",
    "    1: {write: 0, R: sep}\n",
    "  sep:\n",
    "    0: {R: add}\n",
    "    1: R\n",
    "  add:\n",
    "    0: {write: 1, L: sepL}\n",
    "    1: R\n",
    "  sepL:\n",
    "    0: {L: next}\n",
    "    1: L\n",
    "  next:\n",
    "    0: {write: 1, R: each}\n",
    "    1: L\n"
   ]
  },
  {
   "cell_type": "code",
   "execution_count": null,
   "id": "95ce8074",
   "metadata": {},
   "outputs": [],
   "source": [
    "Exercise 2 : Make a machine to output the endless sequence 1011011101111011111\n",
    "\n",
    "input: '1'\n",
    "blank: 0\n",
    "start state: each\n",
    "table:\n",
    "  # mark the current 1 by erasing it\n",
    "  each:\n",
    "    0: {R: H}\n",
    "    1: {write: 0, R: sep}\n",
    "  # skip to the separator\n",
    "  sep:\n",
    "    0: {R: add}\n",
    "    1: R\n",
    "  # skip to the end of the copy and write a 1\n",
    "  add:\n",
    "    0: {write: 1, L: sepL}\n",
    "    1: R\n",
    "  # return to the separator\n",
    "  sepL:\n",
    "    0: {L: next}\n",
    "    1: L\n",
    "  # return to the erased 1, restore it, and then advance to the next 1\n",
    "  next:\n",
    "    0: {write: 1, R: each}\n",
    "    1: L\n",
    "    \n",
    "  H:\n",
    "    1: R\n",
    "    0: {write: 1, L: each2}\n",
    "  \n",
    "  each2:\n",
    "    1: L\n",
    "    0: {R: each}\n"
   ]
  }
 ],
 "metadata": {
  "kernelspec": {
   "display_name": "Python 3 (ipykernel)",
   "language": "python",
   "name": "python3"
  },
  "language_info": {
   "codemirror_mode": {
    "name": "ipython",
    "version": 3
   },
   "file_extension": ".py",
   "mimetype": "text/x-python",
   "name": "python",
   "nbconvert_exporter": "python",
   "pygments_lexer": "ipython3",
   "version": "3.9.12"
  }
 },
 "nbformat": 4,
 "nbformat_minor": 5
}
